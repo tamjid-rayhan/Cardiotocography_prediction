{
  "nbformat": 4,
  "nbformat_minor": 0,
  "metadata": {
    "colab": {
      "name": "cardiotocography_svm.ipynb",
      "provenance": []
    },
    "kernelspec": {
      "name": "python3",
      "display_name": "Python 3"
    }
  },
  "cells": [
    {
      "cell_type": "code",
      "metadata": {
        "id": "dTM9Vv2pP4td",
        "colab_type": "code",
        "colab": {}
      },
      "source": [
        "import numpy as np\n",
        "import pandas as pd\n",
        "import matplotlib.pyplot as plt\n",
        "import seaborn as sns #for plotting\n",
        "from sklearn.ensemble import RandomForestClassifier #for the model\n",
        "from sklearn.tree import DecisionTreeClassifier\n",
        "from sklearn.tree import export_graphviz #plot tree\n",
        "from sklearn.metrics import roc_curve, auc #for model evaluation\n",
        "from sklearn.metrics import classification_report #for model evaluation\n",
        "from sklearn.metrics import confusion_matrix #for model evaluation\n",
        "from sklearn.model_selection import train_test_split #for data splitting\n",
        "\n",
        "\n",
        "np.random.seed(123) #ensure reproducibility\n",
        "\n",
        "pd.options.mode.chained_assignment = None  #hide any pandas warnings\n",
        "\n",
        "#Import libraries for plotting confusion metrics\n",
        "import matplotlib.pyplot as plt\n",
        "import seaborn as sns\n",
        "from sklearn import metrics\n",
        "\n",
        "#Import libraries for hyperparameter tuning\n",
        "from sklearn.model_selection import validation_curve\n",
        "from sklearn.model_selection import learning_curve\n",
        "\n",
        "#Import SVM\n",
        "from sklearn.svm import SVC\n",
        "\n",
        "%matplotlib inline"
      ],
      "execution_count": 0,
      "outputs": []
    },
    {
      "cell_type": "code",
      "metadata": {
        "id": "KbKZkZ5NRR38",
        "colab_type": "code",
        "colab": {}
      },
      "source": [
        "#Read the data file , handle the categorical variables and drop garbage columns\n",
        "dt = pd.read_csv('cardiotocography.csv')\n",
        "\n",
        "dt['Tendency'][dt['Tendency'] == -1] = 'left_asymmetric'\n",
        "dt['Tendency'][dt['Tendency'] == 0] = 'symmetric'\n",
        "dt['Tendency'][dt['Tendency'] == 1] = 'right_asymmetric'\n",
        "\n",
        "dt['Tendency'] = dt['Tendency'].astype('object')\n",
        "\n",
        "dt = pd.get_dummies(dt, drop_first=False)\n",
        "dt.head()\n",
        "\n",
        "dt_fhr = dt.drop(['Unnamed: 23','NSP'],axis = 1)\n",
        "dt_nsp = dt.drop(['Unnamed: 23','CLASS'],axis = 1)"
      ],
      "execution_count": 0,
      "outputs": []
    },
    {
      "cell_type": "code",
      "metadata": {
        "id": "WC1kpBvdRePX",
        "colab_type": "code",
        "colab": {}
      },
      "source": [
        "X_nsp= dt_nsp.drop('NSP', 1)\n",
        "y_nsp = dt_nsp['NSP'] \n",
        "X_train, X_test, y_train, y_test = train_test_split(X_nsp, y_nsp, test_size = .20, random_state=10) #split the data"
      ],
      "execution_count": 0,
      "outputs": []
    },
    {
      "cell_type": "code",
      "metadata": {
        "id": "l9buqjfDRpvD",
        "colab_type": "code",
        "outputId": "c270ac28-9e4e-4f83-9524-e401d062f718",
        "colab": {
          "base_uri": "https://localhost:8080/",
          "height": 183
        }
      },
      "source": [
        "svclassifier = SVC(C=1.0, cache_size=7000, class_weight=None, coef0=0.0,\n",
        "    decision_function_shape='ovr', degree=3, gamma='auto_deprecated',\n",
        "    kernel='poly', max_iter=10000, probability=True, random_state=None,\n",
        "    shrinking=True, tol=0.001, verbose=False)\n",
        "svclassifier.fit(X_train, y_train)"
      ],
      "execution_count": 0,
      "outputs": [
        {
          "output_type": "stream",
          "text": [
            "/usr/local/lib/python3.6/dist-packages/sklearn/svm/base.py:193: FutureWarning: The default value of gamma will change from 'auto' to 'scale' in version 0.22 to account better for unscaled features. Set gamma explicitly to 'auto' or 'scale' to avoid this warning.\n",
            "  \"avoid this warning.\", FutureWarning)\n",
            "/usr/local/lib/python3.6/dist-packages/sklearn/svm/base.py:241: ConvergenceWarning: Solver terminated early (max_iter=10000).  Consider pre-processing your data with StandardScaler or MinMaxScaler.\n",
            "  % self.max_iter, ConvergenceWarning)\n"
          ],
          "name": "stderr"
        },
        {
          "output_type": "execute_result",
          "data": {
            "text/plain": [
              "SVC(C=1.0, cache_size=7000, class_weight=None, coef0=0.0,\n",
              "    decision_function_shape='ovr', degree=3, gamma='auto_deprecated',\n",
              "    kernel='poly', max_iter=10000, probability=True, random_state=None,\n",
              "    shrinking=True, tol=0.001, verbose=False)"
            ]
          },
          "metadata": {
            "tags": []
          },
          "execution_count": 12
        }
      ]
    },
    {
      "cell_type": "code",
      "metadata": {
        "id": "LOP4QbiMRu4F",
        "colab_type": "code",
        "colab": {}
      },
      "source": [
        "y_predict = svclassifier.predict(X_test)\n",
        "y_pred_quant = svclassifier.predict_proba(X_test)[:, 1]\n",
        "y_pred_bin = svclassifier.predict(X_test)"
      ],
      "execution_count": 0,
      "outputs": []
    },
    {
      "cell_type": "code",
      "metadata": {
        "id": "r05wiyjYR4Cm",
        "colab_type": "code",
        "outputId": "cecd6831-986d-4200-dac0-eb4b40c66b1e",
        "colab": {
          "base_uri": "https://localhost:8080/",
          "height": 745
        }
      },
      "source": [
        "# Use score method to get accuracy of model\n",
        "score = svclassifier.score(X_test, y_test)\n",
        "print(score)\n",
        "\n",
        "print(\"The precision recall, F1 score and support for each class\")\n",
        "print(metrics.classification_report(y_test, y_pred_bin, digits=3))\n",
        "#Show the confusion matrix\n",
        "\n",
        "\n",
        "#Create the confusion matrics\n",
        "cm = metrics.confusion_matrix(y_test, y_pred_bin)\n",
        "plt.figure(figsize=(9,9))\n",
        "sns.heatmap(cm, annot=True, fmt=\".3f\", linewidths=.5, square = True, cmap = 'Blues_r');\n",
        "plt.ylabel('Actual label');\n",
        "plt.xlabel('Predicted label');\n",
        "all_sample_title = 'Accuracy Score: {0}'.format(score)\n",
        "plt.title(all_sample_title, size = 15);"
      ],
      "execution_count": 0,
      "outputs": [
        {
          "output_type": "stream",
          "text": [
            "0.5938967136150235\n",
            "The precision recall, F1 score and support for each class\n",
            "              precision    recall  f1-score   support\n",
            "\n",
            "           1      0.851     0.628     0.723       336\n",
            "           2      0.171     0.410     0.242        61\n",
            "           3      0.531     0.586     0.557        29\n",
            "\n",
            "    accuracy                          0.594       426\n",
            "   macro avg      0.518     0.541     0.507       426\n",
            "weighted avg      0.732     0.594     0.642       426\n",
            "\n"
          ],
          "name": "stdout"
        },
        {
          "output_type": "display_data",
          "data": {
            "image/png": "[encoded data removed]",
            "text/plain": [
              "<Figure size 648x648 with 2 Axes>"
            ]
          },
          "metadata": {
            "tags": []
          }
        }
      ]
    },
    {
      "cell_type": "code",
      "metadata": {
        "id": "GmpiZWJPi_kf",
        "colab_type": "code",
        "colab": {}
      },
      "source": [
        ""
      ],
      "execution_count": 0,
      "outputs": []
    }
  ]
}